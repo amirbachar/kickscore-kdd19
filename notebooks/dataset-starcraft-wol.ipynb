{
 "cells": [
  {
   "cell_type": "markdown",
   "metadata": {},
   "source": [
    "# StarCraft - Wings of Liberty dataset"
   ]
  },
  {
   "cell_type": "code",
   "execution_count": 1,
   "metadata": {},
   "outputs": [],
   "source": [
    "%matplotlib inline"
   ]
  },
  {
   "cell_type": "code",
   "execution_count": 2,
   "metadata": {},
   "outputs": [],
   "source": [
    "import choix\n",
    "import collections\n",
    "import json\n",
    "import matplotlib.pyplot as plt\n",
    "import numpy as np\n",
    "\n",
    "from math import log\n",
    "from kseval.models import iterate_dataset\n",
    "from kseval.models.starcraft import IntransitiveModel, ConstantModel\n",
    "from kseval.utils import data_path\n",
    "\n",
    "DATASET = \"kdd-starcraft-wol.txt\""
   ]
  },
  {
   "cell_type": "code",
   "execution_count": 3,
   "metadata": {},
   "outputs": [],
   "source": [
    "counter = collections.Counter()\n",
    "data = list()\n",
    "for obs in iterate_dataset(DATASET):\n",
    "    counter[obs[\"winner\"]] += 1\n",
    "    counter[obs[\"loser\"]] += 1\n",
    "    data.append((obs[\"winner\"], obs[\"loser\"]))"
   ]
  },
  {
   "cell_type": "code",
   "execution_count": 4,
   "metadata": {},
   "outputs": [
    {
     "name": "stdout",
     "output_type": "stream",
     "text": [
      "number of observations: 61,657\n",
      "number of players:      4,381\n"
     ]
    }
   ],
   "source": [
    "n_games = len(data)\n",
    "n_players = len(counter)\n",
    "\n",
    "print(\"number of observations: {:,}\".format(n_games))\n",
    "print(\"number of players:      {:,}\".format(n_players))"
   ]
  },
  {
   "cell_type": "code",
   "execution_count": 5,
   "metadata": {},
   "outputs": [
    {
     "data": {
      "text/plain": [
       "Text(0.5, 0, 'player ID')"
      ]
     },
     "execution_count": 5,
     "metadata": {},
     "output_type": "execute_result"
    },
    {
     "data": {
      "image/png": "[encoded data removed]",
      "text/plain": [
       "<Figure size 1152x216 with 1 Axes>"
      ]
     },
     "metadata": {
      "needs_background": "light"
     },
     "output_type": "display_data"
    }
   ],
   "source": [
    "fig, ax = plt.subplots(figsize=(16.0, 3.0))\n",
    "ax.semilogy(sorted(counter.values(), reverse=True))\n",
    "ax.set_title(\"Number of observations per player\")\n",
    "ax.set_xlabel(\"player ID\")"
   ]
  },
  {
   "cell_type": "code",
   "execution_count": 6,
   "metadata": {},
   "outputs": [
    {
     "name": "stdout",
     "output_type": "stream",
     "text": [
      "training cutoff: 30828\n",
      "test cutoff:     43159\n"
     ]
    }
   ],
   "source": [
    "i1 = int(n_games * 0.5)\n",
    "i2 = int(n_games * 0.7)\n",
    "\n",
    "print(\"training cutoff: {}\".format(i1))\n",
    "print(\"test cutoff:     {}\".format(i2))\n",
    "\n",
    "train = data[:i1]\n",
    "valid = data[i1:i2]\n",
    "test = data[i2:]"
   ]
  },
  {
   "cell_type": "markdown",
   "metadata": {},
   "source": [
    "## Predictive performance\n",
    "\n",
    "Compare the performance of several models:\n",
    "\n",
    "- Bradley–Terry\n",
    "- Naive\n",
    "- Blade-Chest\n",
    "- KickScore Constant\n",
    "- KickScore Intransitive"
   ]
  },
  {
   "cell_type": "code",
   "execution_count": 7,
   "metadata": {},
   "outputs": [],
   "source": [
    "loglike = dict()"
   ]
  },
  {
   "cell_type": "markdown",
   "metadata": {},
   "source": [
    "Bradley-Terry baseline"
   ]
  },
  {
   "cell_type": "code",
   "execution_count": 8,
   "metadata": {},
   "outputs": [
    {
     "name": "stdout",
     "output_type": "stream",
     "text": [
      "alpha = 0.01000, ll = -0.596\n",
      "alpha = 0.01668, ll = -0.591\n",
      "alpha = 0.02783, ll = -0.586\n",
      "alpha = 0.04642, ll = -0.583\n",
      "alpha = 0.07743, ll = -0.582\n",
      "alpha = 0.12915, ll = -0.582\n",
      "alpha = 0.21544, ll = -0.584\n",
      "alpha = 0.35938, ll = -0.588\n",
      "alpha = 0.59948, ll = -0.594\n",
      "alpha = 1.00000, ll = -0.601\n"
     ]
    }
   ],
   "source": [
    "for alpha in np.logspace(-2, 0, num=10):\n",
    "    params = choix.opt_pairwise(n_players, train, alpha=alpha)\n",
    "    ll = 0\n",
    "    for x in valid:\n",
    "        pw, _ = choix.probabilities(x, params)\n",
    "        ll += log(pw)\n",
    "    print(\"alpha = {:.5f}, ll = {:.3f}\".format(alpha, ll / len(valid)))"
   ]
  },
  {
   "cell_type": "code",
   "execution_count": 9,
   "metadata": {},
   "outputs": [],
   "source": [
    "params = choix.opt_pairwise(n_players, train, alpha=0.07743)\n",
    "ll = 0\n",
    "for x in test:\n",
    "    pw, _ = choix.probabilities(x, params)\n",
    "    ll += log(pw)\n",
    "\n",
    "loglike[\"bt\"] = ll / len(test)"
   ]
  },
  {
   "cell_type": "markdown",
   "metadata": {},
   "source": [
    "Naive baseline"
   ]
  },
  {
   "cell_type": "code",
   "execution_count": 10,
   "metadata": {},
   "outputs": [],
   "source": [
    "counts = collections.defaultdict(lambda: 1)\n",
    "for w, l in train:\n",
    "    counts[(w, l)] += 1"
   ]
  },
  {
   "cell_type": "code",
   "execution_count": 11,
   "metadata": {},
   "outputs": [],
   "source": [
    "ll = 0\n",
    "for w, l in test:\n",
    "    pw = counts[(w, l)] / (counts[(w, l)]  + counts[(l, w)] )\n",
    "    ll += log(pw)\n",
    "\n",
    "loglike[\"naive\"] = ll / len(test)"
   ]
  },
  {
   "cell_type": "markdown",
   "metadata": {},
   "source": [
    "IntransitiveModel"
   ]
  },
  {
   "cell_type": "code",
   "execution_count": 12,
   "metadata": {},
   "outputs": [
    {
     "name": "stdout",
     "output_type": "stream",
     "text": [
      "CPU times: user 3min 1s, sys: 222 ms, total: 3min 2s\n",
      "Wall time: 3min 2s\n"
     ]
    },
    {
     "data": {
      "text/plain": [
       "False"
      ]
     },
     "execution_count": 12,
     "metadata": {},
     "output_type": "execute_result"
    }
   ],
   "source": [
    "%%time\n",
    "model = IntransitiveModel(dataset=\"wol\", cvar=4.821, xvar=3.734)\n",
    "model.fit()"
   ]
  },
  {
   "cell_type": "code",
   "execution_count": 13,
   "metadata": {},
   "outputs": [],
   "source": [
    "n_obs, log_loss, acc = model.evaluate()\n",
    "loglike[\"intransitive\"] = -log_loss / n_obs"
   ]
  },
  {
   "cell_type": "markdown",
   "metadata": {},
   "source": [
    "ConstantModel"
   ]
  },
  {
   "cell_type": "code",
   "execution_count": 14,
   "metadata": {},
   "outputs": [
    {
     "name": "stdout",
     "output_type": "stream",
     "text": [
      "CPU times: user 1min 55s, sys: 64.1 ms, total: 1min 55s\n",
      "Wall time: 1min 55s\n"
     ]
    },
    {
     "data": {
      "text/plain": [
       "False"
      ]
     },
     "execution_count": 14,
     "metadata": {},
     "output_type": "execute_result"
    }
   ],
   "source": [
    "%%time\n",
    "model = ConstantModel(dataset=\"wol\", cvar=2.13)\n",
    "model.fit()"
   ]
  },
  {
   "cell_type": "code",
   "execution_count": 15,
   "metadata": {},
   "outputs": [],
   "source": [
    "n_obs, log_loss, acc = model.evaluate()\n",
    "loglike[\"constant\"] = -log_loss / n_obs"
   ]
  },
  {
   "cell_type": "markdown",
   "metadata": {
    "collapsed": true
   },
   "source": [
    "Blade-Chest model"
   ]
  },
  {
   "cell_type": "code",
   "execution_count": 16,
   "metadata": {},
   "outputs": [],
   "source": [
    "loglike[\"bc\"] = -0.540"
   ]
  },
  {
   "cell_type": "markdown",
   "metadata": {},
   "source": [
    "### Results"
   ]
  },
  {
   "cell_type": "code",
   "execution_count": 17,
   "metadata": {},
   "outputs": [
    {
     "name": "stdout",
     "output_type": "stream",
     "text": [
      "model         neg. log-like\n",
      "---------------------------\n",
      "naive                -0.589\n",
      "bt                   -0.588\n",
      "constant             -0.587\n",
      "bc                   -0.540\n",
      "intransitive         -0.515\n"
     ]
    }
   ],
   "source": [
    "print(\"model         neg. log-like\")\n",
    "print(\"---------------------------\")\n",
    "fmt = \"{: <12}         {:.3f}\"\n",
    "\n",
    "for model in (\"naive\", \"bt\", \"constant\", \"bc\", \"intransitive\"):\n",
    "    ll = loglike[model]\n",
    "    print(fmt.format(model, ll))"
   ]
  },
  {
   "cell_type": "code",
   "execution_count": 18,
   "metadata": {},
   "outputs": [],
   "source": [
    "with open(data_path(\"fig/starcraft-wol.json\"), \"w\") as f:\n",
    "    json.dump(loglike, f)"
   ]
  }
 ],
 "metadata": {
  "kernelspec": {
   "display_name": "Python 3",
   "language": "python",
   "name": "python3"
  },
  "language_info": {
   "codemirror_mode": {
    "name": "ipython",
    "version": 3
   },
   "file_extension": ".py",
   "mimetype": "text/x-python",
   "name": "python",
   "nbconvert_exporter": "python",
   "pygments_lexer": "ipython3",
   "version": "3.6.4"
  }
 },
 "nbformat": 4,
 "nbformat_minor": 2
}
