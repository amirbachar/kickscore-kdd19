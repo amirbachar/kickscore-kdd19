{
 "cells": [
  {
   "cell_type": "markdown",
   "metadata": {},
   "source": [
    "# Predictive performance on 4 datasets"
   ]
  },
  {
   "cell_type": "code",
   "execution_count": 1,
   "metadata": {},
   "outputs": [],
   "source": [
    "%matplotlib inline"
   ]
  },
  {
   "cell_type": "code",
   "execution_count": 2,
   "metadata": {},
   "outputs": [],
   "source": [
    "import json\n",
    "import matplotlib.pyplot as plt\n",
    "import numpy as np\n",
    "\n",
    "from kseval.plotting import sigconf_settings\n",
    "from kseval.utils import data_path"
   ]
  },
  {
   "cell_type": "code",
   "execution_count": 3,
   "metadata": {},
   "outputs": [
    {
     "name": "stdout",
     "output_type": "stream",
     "text": [
      "Sigconf settings loaded!\n"
     ]
    }
   ],
   "source": [
    "sigconf_settings()"
   ]
  },
  {
   "cell_type": "code",
   "execution_count": 4,
   "metadata": {},
   "outputs": [],
   "source": [
    "datasets = [\"tennis-perf\", \"basketball-perf\", \"football-perf\", \"chess-small-perf\"]\n",
    "data = dict()\n",
    "\n",
    "for name in datasets:\n",
    "    with open(data_path(\"fig/{}.json\".format(name))) as f:\n",
    "        data[name] = json.load(f)"
   ]
  },
  {
   "cell_type": "code",
   "execution_count": 5,
   "metadata": {},
   "outputs": [],
   "source": [
    "def plot(name, ax, ours, title):\n",
    "    # Set up some variables.\n",
    "    models = [\"constant\", \"elo\", \"trueskill\", ours]\n",
    "    labels = [\"Cst\", \"Elo\", \"TS\", \"Ours\"]\n",
    "    hl_color = plt.rcParams['axes.prop_cycle'].by_key()['color'][1]\n",
    "    idx = np.arange(len(models))\n",
    "    vals = (np.array([data[name][m][\"avg_ll\"] for m in models])\n",
    "            - data[name][\"random\"][\"avg_ll\"])\n",
    "    # Bar plot.\n",
    "    bars = ax.bar(idx, vals, width=0.6)\n",
    "    bars[3].set_color(hl_color)\n",
    "    # Axes settings.\n",
    "    ax.xaxis.tick_top()\n",
    "    ax.set_xticks(idx)\n",
    "    ax.set_xticklabels(labels, y=0.95)\n",
    "    ax.set_title(title, y=1.15)"
   ]
  },
  {
   "cell_type": "code",
   "execution_count": 6,
   "metadata": {},
   "outputs": [
    {
     "data": {
      "image/png": "[encoded data removed]",
      "text/plain": [
       "<Figure size 540x375 with 4 Axes>"
      ]
     },
     "metadata": {
      "needs_background": "light"
     },
     "output_type": "display_data"
    }
   ],
   "source": [
    "fig, axs = plt.subplots(nrows=2, ncols=2, figsize=(3.6, 2.5), sharey=True)\n",
    "axs[0,0].set_ylim(ymax=0.0, ymin=-0.2)\n",
    "\n",
    "axs[0,0].set_ylabel(\"Log loss diff.\")\n",
    "axs[1,0].set_ylabel(\"Log loss diff.\")\n",
    "\n",
    "plot(\"tennis-perf\", axs[0,0], ours=\"affine-wiener\", title=\"ATP tennis\")\n",
    "plot(\"basketball-perf\", axs[0,1], ours=\"matern12\", title=\"NBA basketball\")\n",
    "plot(\"football-perf\", axs[1,0], ours=\"matern12\", title=\"World football\")\n",
    "plot(\"chess-small-perf\", axs[1,1], ours=\"wiener\", title=\"ChessBase small\")\n",
    "\n",
    "fig.tight_layout()\n",
    "fig.subplots_adjust(wspace=0.1, hspace=0.55)\n",
    "\n",
    "fig.savefig(\"improvement.pdf\", bbox_inches=\"tight\")"
   ]
  }
 ],
 "metadata": {
  "kernelspec": {
   "display_name": "Python 3",
   "language": "python",
   "name": "python3"
  },
  "language_info": {
   "codemirror_mode": {
    "name": "ipython",
    "version": 3
   },
   "file_extension": ".py",
   "mimetype": "text/x-python",
   "name": "python",
   "nbconvert_exporter": "python",
   "pygments_lexer": "ipython3",
   "version": "3.6.4"
  }
 },
 "nbformat": 4,
 "nbformat_minor": 2
}
