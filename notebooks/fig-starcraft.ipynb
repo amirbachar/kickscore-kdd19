{
 "cells": [
  {
   "cell_type": "markdown",
   "metadata": {},
   "source": [
    "# StarCraft figure"
   ]
  },
  {
   "cell_type": "code",
   "execution_count": 1,
   "metadata": {},
   "outputs": [],
   "source": [
    "%matplotlib inline"
   ]
  },
  {
   "cell_type": "code",
   "execution_count": 2,
   "metadata": {},
   "outputs": [],
   "source": [
    "import json\n",
    "import matplotlib.pyplot as plt\n",
    "import numpy as np\n",
    "\n",
    "from kseval.utils import data_path\n",
    "from kseval.plotting import sigconf_settings"
   ]
  },
  {
   "cell_type": "code",
   "execution_count": 3,
   "metadata": {},
   "outputs": [
    {
     "name": "stdout",
     "output_type": "stream",
     "text": [
      "Sigconf settings loaded!\n"
     ]
    }
   ],
   "source": [
    "sigconf_settings()"
   ]
  },
  {
   "cell_type": "code",
   "execution_count": 4,
   "metadata": {},
   "outputs": [],
   "source": [
    "with open(data_path(\"fig/starcraft-wol.json\")) as f:\n",
    "    wol = json.load(f)\n",
    "with open(data_path(\"fig/starcraft-hots.json\")) as f:\n",
    "    hots = json.load(f)"
   ]
  },
  {
   "cell_type": "code",
   "execution_count": 5,
   "metadata": {},
   "outputs": [
    {
     "data": {
      "image/png": "[encoded data removed]",
      "text/plain": [
       "<Figure size 540x240 with 2 Axes>"
      ]
     },
     "metadata": {
      "needs_background": "light"
     },
     "output_type": "display_data"
    }
   ],
   "source": [
    "fig, axs = plt.subplots(ncols=2, figsize=(3.6, 1.6), sharey=True)\n",
    "axs[0].set_ylim(ymin=0.4, ymax=0.6)\n",
    "axs[0].set_ylabel(\"Log loss\")\n",
    "\n",
    "models = [\"bt\", \"naive\", \"bc\", \"intransitive\"]\n",
    "labels = [\"Logit\", \"Naive\", \"B.-C.\", \"Ours\"]\n",
    "idx = np.arange(len(models))\n",
    "hl_color = plt.rcParams['axes.prop_cycle'].by_key()['color'][1]\n",
    "\n",
    "for ax, title, data in zip(axs, (\"StarCraft HotS\", \"StarCraft WoL\"), (hots, wol)):\n",
    "    vals = [-data[m] for m in models]\n",
    "    bars = ax.bar(idx, vals, width=0.6)\n",
    "    bars[3].set_color(hl_color)\n",
    "    ax.set_xticks(idx)\n",
    "    ax.set_xticklabels(labels, rotation=30, ha=\"right\", y=0.04)\n",
    "    ax.set_title(title)\n",
    "    \n",
    "fig.tight_layout()\n",
    "fig.savefig(\"starcraft.pdf\", bbox_inches=\"tight\")"
   ]
  }
 ],
 "metadata": {
  "kernelspec": {
   "display_name": "Python 3",
   "language": "python",
   "name": "python3"
  },
  "language_info": {
   "codemirror_mode": {
    "name": "ipython",
    "version": 3
   },
   "file_extension": ".py",
   "mimetype": "text/x-python",
   "name": "python",
   "nbconvert_exporter": "python",
   "pygments_lexer": "ipython3",
   "version": "3.6.4"
  }
 },
 "nbformat": 4,
 "nbformat_minor": 2
}
