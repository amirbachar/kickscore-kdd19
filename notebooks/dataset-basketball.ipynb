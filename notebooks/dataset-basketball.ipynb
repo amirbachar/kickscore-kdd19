{
 "cells": [
  {
   "cell_type": "markdown",
   "metadata": {},
   "source": [
    "# NBA basketball dataset"
   ]
  },
  {
   "cell_type": "code",
   "execution_count": 1,
   "metadata": {},
   "outputs": [],
   "source": [
    "%matplotlib inline"
   ]
  },
  {
   "cell_type": "code",
   "execution_count": 2,
   "metadata": {},
   "outputs": [],
   "source": [
    "import collections\n",
    "import json\n",
    "import matplotlib.pyplot as plt\n",
    "import numpy as np\n",
    "import pickle\n",
    "\n",
    "from datetime import datetime, timezone\n",
    "from kseval.models import iterate_dataset\n",
    "from kseval.models.basketball import DynamicModel, EloModel, TrueSkillModel, DATASET\n",
    "from kseval.utils import data_path\n",
    "from math import log"
   ]
  },
  {
   "cell_type": "markdown",
   "metadata": {},
   "source": [
    "## Summary statistics"
   ]
  },
  {
   "cell_type": "code",
   "execution_count": 3,
   "metadata": {},
   "outputs": [],
   "source": [
    "counter = collections.Counter()\n",
    "n_obs = 0\n",
    "for obs in iterate_dataset(DATASET):\n",
    "    counter[obs[\"team1\"]] += 1\n",
    "    counter[obs[\"team2\"]] += 1\n",
    "    n_obs += 1"
   ]
  },
  {
   "cell_type": "code",
   "execution_count": 4,
   "metadata": {},
   "outputs": [
    {
     "name": "stdout",
     "output_type": "stream",
     "text": [
      "number of observations: 67,642\n",
      "number of teams:        102\n"
     ]
    }
   ],
   "source": [
    "print(\"number of observations: {:,}\".format(n_obs))\n",
    "print(\"number of teams:        {:,}\".format(len(counter)))"
   ]
  },
  {
   "cell_type": "code",
   "execution_count": 5,
   "metadata": {},
   "outputs": [
    {
     "data": {
      "image/png": "[encoded data removed]",
      "text/plain": [
       "<Figure size 1152x216 with 1 Axes>"
      ]
     },
     "metadata": {
      "needs_background": "light"
     },
     "output_type": "display_data"
    }
   ],
   "source": [
    "teams, counts = map(list, zip(*counter.most_common(n=50)))\n",
    "indices = list(range(len(teams)))\n",
    "\n",
    "fig, ax = plt.subplots(figsize=(16.0, 3.0))\n",
    "ax.bar(indices, counts)\n",
    "ax.set_xticks(indices)\n",
    "ax.set_xticklabels(teams, rotation='vertical')\n",
    "ax.set_title(\"Number of observations per team\");"
   ]
  },
  {
   "cell_type": "code",
   "execution_count": 6,
   "metadata": {},
   "outputs": [],
   "source": [
    "counter = collections.Counter()\n",
    "ts = list()\n",
    "for obs in iterate_dataset(DATASET):\n",
    "    dt = datetime.fromtimestamp(obs[\"t\"], tz=timezone.utc)\n",
    "    counter[dt.year] += 1\n",
    "    ts.append(obs[\"t\"])"
   ]
  },
  {
   "cell_type": "code",
   "execution_count": 7,
   "metadata": {},
   "outputs": [
    {
     "data": {
      "image/png": "[encoded data removed]",
      "text/plain": [
       "<Figure size 1152x216 with 1 Axes>"
      ]
     },
     "metadata": {
      "needs_background": "light"
     },
     "output_type": "display_data"
    }
   ],
   "source": [
    "begin, end = min(counter), max(counter)\n",
    "indices = np.arange(begin, end + 1, dtype=int)\n",
    "counts = [counter[y] for y in indices]\n",
    "\n",
    "fig, ax = plt.subplots(figsize=(16.0, 3.0))\n",
    "ax.bar(indices, counts)\n",
    "ax.set_title(\"Number of observations per year\");"
   ]
  },
  {
   "cell_type": "markdown",
   "metadata": {},
   "source": [
    "Notice the lockouts in 1998 and 2011."
   ]
  },
  {
   "cell_type": "code",
   "execution_count": 8,
   "metadata": {},
   "outputs": [
    {
     "name": "stdout",
     "output_type": "stream",
     "text": [
      "cutoff date: 2003-03-15\n"
     ]
    }
   ],
   "source": [
    "idx = int(0.7 * len(ts))\n",
    "dt = datetime.fromtimestamp(ts[idx], tz=timezone.utc)\n",
    "CUTOFF = datetime(dt.year, dt.month, dt.day, tzinfo=timezone.utc)\n",
    "\n",
    "print(\"cutoff date: {:%Y-%m-%d}\".format(CUTOFF))"
   ]
  },
  {
   "cell_type": "markdown",
   "metadata": {},
   "source": [
    "## Evaluation of models\n",
    "\n",
    "Elo"
   ]
  },
  {
   "cell_type": "code",
   "execution_count": 9,
   "metadata": {},
   "outputs": [
    {
     "name": "stdout",
     "output_type": "stream",
     "text": [
      "CPU times: user 976 ms, sys: 9.77 ms, total: 986 ms\n",
      "Wall time: 981 ms\n"
     ]
    }
   ],
   "source": [
    "%%time\n",
    "model = EloModel(lr=0.09511)\n",
    "model.fit(cutoff=CUTOFF)\n",
    "elo = model.evaluate(begin=CUTOFF)"
   ]
  },
  {
   "cell_type": "markdown",
   "metadata": {},
   "source": [
    "TrueSkill"
   ]
  },
  {
   "cell_type": "code",
   "execution_count": 10,
   "metadata": {},
   "outputs": [
    {
     "name": "stdout",
     "output_type": "stream",
     "text": [
      "CPU times: user 25.6 s, sys: 39.9 ms, total: 25.6 s\n",
      "Wall time: 25.6 s\n"
     ]
    }
   ],
   "source": [
    "%%time\n",
    "model = TrueSkillModel(sigma=0.35731, tau=0.02723)\n",
    "model.fit(cutoff=CUTOFF)\n",
    "trueskill = model.evaluate(begin=CUTOFF)"
   ]
  },
  {
   "cell_type": "code",
   "execution_count": 11,
   "metadata": {},
   "outputs": [],
   "source": [
    "res = {\"random\": {\n",
    "    \"n_obs\": 0,\n",
    "    \"avg_ll\": log(2),\n",
    "    \"avg_acc\": 1/2\n",
    "}}\n",
    "\n",
    "for model, x in ((\"elo\", elo), (\"trueskill\", trueskill)):\n",
    "    res[model] = {\n",
    "        \"n_obs\": x[0],\n",
    "        \"avg_ll\": x[1] / x[0],\n",
    "        \"avg_acc\": x[2] / x[0],\n",
    "    }\n",
    "\n",
    "for model in (\"constant\", \"matern12\", \"matern32\", \"matern52\",\n",
    "        \"ttt\", \"wiener\", \"logit\", \"difference\", \"count\", \"kl\"):\n",
    "    n_obs, log_loss, accuracy = 0, 0.0, 0.0\n",
    "    for datum in iterate_dataset(\"eval/basketball-{}.txt\".format(model)):\n",
    "        n_obs += datum[\"n_obs\"]\n",
    "        log_loss += datum[\"log_loss\"]\n",
    "        accuracy += datum[\"accuracy\"]\n",
    "    res[model] = {\n",
    "        \"n_obs\": n_obs,\n",
    "        \"avg_ll\": log_loss / n_obs,\n",
    "        \"avg_acc\": accuracy / n_obs,\n",
    "    }\n",
    "\n",
    "# Save results for plots.\n",
    "with open(data_path(\"fig/basketball-perf.json\"), \"w\") as f:\n",
    "    json.dump(res, f)"
   ]
  },
  {
   "cell_type": "markdown",
   "metadata": {
    "collapsed": true
   },
   "source": [
    "    with open(data_path(\"fig/basketball-perf.json\")) as f:\n",
    "        res = json.load(f)\n",
    "        \n",
    "### Results for dynamics"
   ]
  },
  {
   "cell_type": "code",
   "execution_count": 12,
   "metadata": {},
   "outputs": [
    {
     "name": "stdout",
     "output_type": "stream",
     "text": [
      "model      # obs  avg. ll  avg. acc\n",
      "-----------------------------------\n",
      "random         0    0.693     0.500\n",
      "elo        20300    0.634     0.644\n",
      "trueskill  20300    0.634     0.644\n",
      "constant   20300    0.692     0.536\n",
      "matern12   20300    0.630     0.645\n",
      "matern32   20300    0.630     0.645\n",
      "matern52   20300    0.630     0.644\n",
      "ttt        20300    0.637     0.638\n",
      "wiener     20300    0.632     0.644\n"
     ]
    }
   ],
   "source": [
    "print(\"model      # obs  avg. ll  avg. acc\")\n",
    "print(\"-----------------------------------\")\n",
    "fmt = \"{: <9}  {: >5}    {:.3f}     {:.3f}\"\n",
    "\n",
    "for model in (\"random\", \"elo\", \"trueskill\", \"constant\", \"matern12\",\n",
    "        \"matern32\", \"matern52\", \"ttt\", \"wiener\"):\n",
    "    r = res[model]\n",
    "    print(fmt.format(model, r[\"n_obs\"], r[\"avg_ll\"], r[\"avg_acc\"]))"
   ]
  },
  {
   "cell_type": "markdown",
   "metadata": {},
   "source": [
    "Best model is Matern12 (both in terms of marginal log likelihood and predictive log loss)\n",
    "\n",
    "### Results for likelihoods"
   ]
  },
  {
   "cell_type": "code",
   "execution_count": 13,
   "metadata": {},
   "outputs": [
    {
     "name": "stdout",
     "output_type": "stream",
     "text": [
      "model       # obs   avg. ll  avg. acc\n",
      "-------------------------------------\n",
      "random          0     0.693     0.500\n",
      "matern12    20300     0.630     0.645\n",
      "logit       20300     0.630     0.646\n",
      "difference  20300     0.627     0.650\n",
      "count       20300     0.630     0.644\n"
     ]
    }
   ],
   "source": [
    "print(\"model       # obs   avg. ll  avg. acc\")\n",
    "print(\"-------------------------------------\")\n",
    "fmt = \"{: <10}  {: >5}     {:.3f}     {:.3f}\"\n",
    "\n",
    "for model in (\"random\", \"matern12\", \"logit\", \"difference\", \"count\"):\n",
    "    r = res[model]\n",
    "    print(fmt.format(model, r[\"n_obs\"], r[\"avg_ll\"], r[\"avg_acc\"]))"
   ]
  },
  {
   "cell_type": "markdown",
   "metadata": {},
   "source": [
    "### Results for variational objectives"
   ]
  },
  {
   "cell_type": "code",
   "execution_count": 14,
   "metadata": {},
   "outputs": [
    {
     "name": "stdout",
     "output_type": "stream",
     "text": [
      "model       # obs   avg. ll  avg. acc\n",
      "-------------------------------------\n",
      "random          0     0.6931     0.5000\n",
      "matern12    20300     0.6296     0.6454\n",
      "kl          20300     0.6297     0.6450\n"
     ]
    }
   ],
   "source": [
    "print(\"model       # obs   avg. ll  avg. acc\")\n",
    "print(\"-------------------------------------\")\n",
    "fmt = \"{: <10}  {: >5}     {:.4f}     {:.4f}\"\n",
    "\n",
    "for model in (\"random\", \"matern12\", \"kl\"):\n",
    "    r = res[model]\n",
    "    print(fmt.format(model, r[\"n_obs\"], r[\"avg_ll\"], r[\"avg_acc\"]))"
   ]
  }
 ],
 "metadata": {
  "kernelspec": {
   "display_name": "Python 3",
   "language": "python",
   "name": "python3"
  },
  "language_info": {
   "codemirror_mode": {
    "name": "ipython",
    "version": 3
   },
   "file_extension": ".py",
   "mimetype": "text/x-python",
   "name": "python",
   "nbconvert_exporter": "python",
   "pygments_lexer": "ipython3",
   "version": "3.6.4"
  }
 },
 "nbformat": 4,
 "nbformat_minor": 2
}
