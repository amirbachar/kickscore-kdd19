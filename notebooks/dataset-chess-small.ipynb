{
 "cells": [
  {
   "cell_type": "markdown",
   "metadata": {},
   "source": [
    "# ChessBase 2018 small dataset"
   ]
  },
  {
   "cell_type": "code",
   "execution_count": 1,
   "metadata": {},
   "outputs": [],
   "source": [
    "%matplotlib inline"
   ]
  },
  {
   "cell_type": "code",
   "execution_count": 2,
   "metadata": {},
   "outputs": [],
   "source": [
    "import collections\n",
    "import json\n",
    "import matplotlib.pyplot as plt\n",
    "import numpy as np\n",
    "\n",
    "from datetime import datetime, timezone\n",
    "from kseval.models import iterate_dataset\n",
    "from kseval.models.chess import EloModel, TrueSkillModel, DATASET\n",
    "from kseval.utils import data_path\n",
    "from math import log"
   ]
  },
  {
   "cell_type": "markdown",
   "metadata": {},
   "source": [
    "## Summary statistics"
   ]
  },
  {
   "cell_type": "code",
   "execution_count": 3,
   "metadata": {},
   "outputs": [],
   "source": [
    "counter = collections.Counter()\n",
    "n_obs = 0\n",
    "for obs in iterate_dataset(DATASET):\n",
    "    counter[obs[\"white\"]] += 1\n",
    "    counter[obs[\"black\"]] += 1\n",
    "    n_obs += 1"
   ]
  },
  {
   "cell_type": "code",
   "execution_count": 4,
   "metadata": {},
   "outputs": [
    {
     "name": "stdout",
     "output_type": "stream",
     "text": [
      "number of observations: 306,764\n",
      "number of players:      19,788\n"
     ]
    }
   ],
   "source": [
    "print(\"number of observations: {:,}\".format(n_obs))\n",
    "print(\"number of players:      {:,}\".format(len(counter)))"
   ]
  },
  {
   "cell_type": "code",
   "execution_count": 5,
   "metadata": {},
   "outputs": [
    {
     "data": {
      "text/plain": [
       "Text(0.5, 0, 'player ID')"
      ]
     },
     "execution_count": 5,
     "metadata": {},
     "output_type": "execute_result"
    },
    {
     "data": {
      "image/png": "[encoded data removed]",
      "text/plain": [
       "<Figure size 1152x216 with 1 Axes>"
      ]
     },
     "metadata": {
      "needs_background": "light"
     },
     "output_type": "display_data"
    }
   ],
   "source": [
    "fig, ax = plt.subplots(figsize=(16.0, 3.0))\n",
    "ax.semilogy(sorted(counter.values(), reverse=True))\n",
    "ax.set_title(\"Number of observations per player\")\n",
    "ax.set_xlabel(\"player ID\")"
   ]
  },
  {
   "cell_type": "code",
   "execution_count": 6,
   "metadata": {},
   "outputs": [],
   "source": [
    "ts = list()\n",
    "counter = collections.Counter()\n",
    "for obs in iterate_dataset(DATASET):\n",
    "    dt = datetime.fromtimestamp(obs[\"t\"], tz=timezone.utc)\n",
    "    counter[dt.year] += 1\n",
    "    ts.append(obs[\"t\"])"
   ]
  },
  {
   "cell_type": "code",
   "execution_count": 7,
   "metadata": {},
   "outputs": [
    {
     "data": {
      "image/png": "[encoded data removed]",
      "text/plain": [
       "<Figure size 1152x216 with 1 Axes>"
      ]
     },
     "metadata": {
      "needs_background": "light"
     },
     "output_type": "display_data"
    }
   ],
   "source": [
    "begin, end = min(counter), max(counter)\n",
    "indices = np.arange(begin, end + 1, dtype=int)\n",
    "counts = [counter[y] for y in indices]\n",
    "\n",
    "fig, ax = plt.subplots(figsize=(16.0, 3.0))\n",
    "ax.bar(indices, counts)\n",
    "ax.set_title(\"Number of observations per year\");"
   ]
  },
  {
   "cell_type": "code",
   "execution_count": 8,
   "metadata": {},
   "outputs": [
    {
     "name": "stdout",
     "output_type": "stream",
     "text": [
      "cutoff date: 1974-04-15\n"
     ]
    }
   ],
   "source": [
    "idx = int(0.7 * len(ts))\n",
    "dt = datetime.fromtimestamp(ts[idx], tz=timezone.utc)\n",
    "CUTOFF = datetime(dt.year, dt.month, dt.day, tzinfo=timezone.utc)\n",
    "\n",
    "print(\"cutoff date: {:%Y-%m-%d}\".format(CUTOFF))"
   ]
  },
  {
   "cell_type": "markdown",
   "metadata": {},
   "source": [
    "## Evaluation of models\n",
    "\n",
    "Elo"
   ]
  },
  {
   "cell_type": "code",
   "execution_count": 9,
   "metadata": {},
   "outputs": [
    {
     "name": "stdout",
     "output_type": "stream",
     "text": [
      "CPU times: user 5.38 s, sys: 44.1 ms, total: 5.42 s\n",
      "Wall time: 5.42 s\n"
     ]
    }
   ],
   "source": [
    "%%time\n",
    "model = EloModel(margin=0.856, lr=0.158)\n",
    "model.fit(cutoff=CUTOFF)\n",
    "elo = model.evaluate(begin=CUTOFF)"
   ]
  },
  {
   "cell_type": "markdown",
   "metadata": {},
   "source": [
    "TrueSkill"
   ]
  },
  {
   "cell_type": "code",
   "execution_count": 10,
   "metadata": {},
   "outputs": [
    {
     "name": "stdout",
     "output_type": "stream",
     "text": [
      "CPU times: user 2min 4s, sys: 314 ms, total: 2min 4s\n",
      "Wall time: 2min 5s\n"
     ]
    }
   ],
   "source": [
    "%%time\n",
    "model = TrueSkillModel(margin=0.555, sigma=0.490, tau=0.030)\n",
    "model.fit(cutoff=CUTOFF)\n",
    "trueskill = model.evaluate(begin=CUTOFF)"
   ]
  },
  {
   "cell_type": "code",
   "execution_count": 11,
   "metadata": {},
   "outputs": [],
   "source": [
    "res = {\"random\": {\n",
    "    \"n_obs\": 0,\n",
    "    \"avg_ll\": log(3),\n",
    "    \"avg_acc\": 1/3\n",
    "}}\n",
    "\n",
    "for model, x in ((\"elo\", elo), (\"trueskill\", trueskill)):\n",
    "    res[model] = {\n",
    "        \"n_obs\": x[0],\n",
    "        \"avg_ll\": x[1] / x[0],\n",
    "        \"avg_acc\": x[2] / x[0],\n",
    "    }\n",
    "\n",
    "for model in (\"constant\", \"matern12\", \"matern32\", \"matern52\", \"ttt\", \"wiener\", \"kl\", \"wa\"):\n",
    "    n_obs, log_loss, accuracy = 0, 0.0, 0.0\n",
    "    for datum in iterate_dataset(\"eval/chess-{}.txt\".format(model)):\n",
    "        n_obs += datum[\"n_obs\"]\n",
    "        log_loss += datum[\"log_loss\"]\n",
    "        accuracy += datum[\"accuracy\"]\n",
    "    res[model] = {\n",
    "        \"n_obs\": n_obs,\n",
    "        \"avg_ll\": log_loss / n_obs,\n",
    "        \"avg_acc\": accuracy / n_obs,\n",
    "    }\n",
    "\n",
    "# Save results for plots.\n",
    "with open(data_path(\"fig/chess-small-perf.json\"), \"w\") as f:\n",
    "    json.dump(res, f)"
   ]
  },
  {
   "cell_type": "markdown",
   "metadata": {
    "collapsed": true
   },
   "source": [
    "    with open(data_path(\"fig/chess-small-perf.json\")) as f:\n",
    "        res = json.load(f)\n",
    "        \n",
    "### Results for dynamics"
   ]
  },
  {
   "cell_type": "code",
   "execution_count": 12,
   "metadata": {},
   "outputs": [
    {
     "name": "stdout",
     "output_type": "stream",
     "text": [
      "model      # obs  avg. ll  avg. acc\n",
      "-----------------------------------\n",
      "random         0    1.099     0.333\n",
      "elo        92044    1.035     0.447\n",
      "trueskill  92044    1.030     0.467\n",
      "constant   92044    1.030     0.478\n",
      "matern12   92044    1.026     0.480\n",
      "matern32   92044    1.026     0.478\n",
      "matern52   92044    1.026     0.478\n",
      "ttt        92044    1.026     0.475\n",
      "wiener     92044    1.026     0.474\n"
     ]
    }
   ],
   "source": [
    "print(\"model      # obs  avg. ll  avg. acc\")\n",
    "print(\"-----------------------------------\")\n",
    "fmt = \"{: <9}  {: >5}    {:.3f}     {:.3f}\"\n",
    "\n",
    "for model in (\"random\", \"elo\", \"trueskill\", \"constant\", \"matern12\",\n",
    "        \"matern32\", \"matern52\", \"ttt\", \"wiener\"):\n",
    "    r = res[model]\n",
    "    print(fmt.format(model, r[\"n_obs\"], r[\"avg_ll\"], r[\"avg_acc\"]))"
   ]
  },
  {
   "cell_type": "markdown",
   "metadata": {
    "collapsed": true
   },
   "source": [
    "Best model:\n",
    "\n",
    "- in terms of marginal log-likelihood: Wiener\n",
    "- in terms of predictive log-loss: Matern12\n",
    "\n",
    "### Results for variational objective"
   ]
  },
  {
   "cell_type": "code",
   "execution_count": 13,
   "metadata": {},
   "outputs": [
    {
     "name": "stdout",
     "output_type": "stream",
     "text": [
      "model      # obs  avg. ll  avg. acc\n",
      "-----------------------------------\n",
      "random         0    1.099     0.333\n",
      "wiener     92044    1.026     0.474\n",
      "kl         92044    1.026     0.474\n"
     ]
    }
   ],
   "source": [
    "print(\"model      # obs  avg. ll  avg. acc\")\n",
    "print(\"-----------------------------------\")\n",
    "fmt = \"{: <9}  {: >5}    {:.3f}     {:.3f}\"\n",
    "\n",
    "for model in (\"random\", \"wiener\", \"kl\"):\n",
    "    r = res[model]\n",
    "    print(fmt.format(model, r[\"n_obs\"], r[\"avg_ll\"], r[\"avg_acc\"]))"
   ]
  },
  {
   "cell_type": "markdown",
   "metadata": {
    "collapsed": true
   },
   "source": [
    "### Results for white-advantage"
   ]
  },
  {
   "cell_type": "code",
   "execution_count": 14,
   "metadata": {},
   "outputs": [
    {
     "name": "stdout",
     "output_type": "stream",
     "text": [
      "model      # obs  avg. ll  avg. acc\n",
      "-----------------------------------\n",
      "random         0    1.099     0.333\n",
      "matern12   92044    1.026     0.480\n",
      "wa         92044    1.019     0.485\n"
     ]
    }
   ],
   "source": [
    "print(\"model      # obs  avg. ll  avg. acc\")\n",
    "print(\"-----------------------------------\")\n",
    "fmt = \"{: <9}  {: >5}    {:.3f}     {:.3f}\"\n",
    "\n",
    "for model in (\"random\", \"matern12\", \"wa\"):\n",
    "    r = res[model]\n",
    "    print(fmt.format(model, r[\"n_obs\"], r[\"avg_ll\"], r[\"avg_acc\"]))"
   ]
  }
 ],
 "metadata": {
  "kernelspec": {
   "display_name": "Python 3",
   "language": "python",
   "name": "python3"
  },
  "language_info": {
   "codemirror_mode": {
    "name": "ipython",
    "version": 3
   },
   "file_extension": ".py",
   "mimetype": "text/x-python",
   "name": "python",
   "nbconvert_exporter": "python",
   "pygments_lexer": "ipython3",
   "version": "3.6.4"
  }
 },
 "nbformat": 4,
 "nbformat_minor": 2
}
