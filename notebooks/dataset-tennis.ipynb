{
 "cells": [
  {
   "cell_type": "markdown",
   "metadata": {},
   "source": [
    "# ATP tennis dataset"
   ]
  },
  {
   "cell_type": "code",
   "execution_count": 1,
   "metadata": {},
   "outputs": [],
   "source": [
    "%matplotlib inline"
   ]
  },
  {
   "cell_type": "code",
   "execution_count": 2,
   "metadata": {},
   "outputs": [],
   "source": [
    "import collections\n",
    "import json\n",
    "import matplotlib.pyplot as plt\n",
    "import numpy as np\n",
    "\n",
    "from datetime import datetime, timezone\n",
    "from kseval.models import iterate_dataset\n",
    "from kseval.models.tennis import EloModel, TrueSkillModel, DATASET\n",
    "from kseval.utils import data_path\n",
    "from math import log"
   ]
  },
  {
   "cell_type": "markdown",
   "metadata": {},
   "source": [
    "## Summary statistics"
   ]
  },
  {
   "cell_type": "code",
   "execution_count": 3,
   "metadata": {},
   "outputs": [],
   "source": [
    "counter = collections.Counter()\n",
    "n_obs = 0\n",
    "for obs in iterate_dataset(DATASET):\n",
    "    counter[obs[\"winner\"]] += 1\n",
    "    counter[obs[\"loser\"]] += 1\n",
    "    n_obs += 1"
   ]
  },
  {
   "cell_type": "code",
   "execution_count": 4,
   "metadata": {},
   "outputs": [
    {
     "name": "stdout",
     "output_type": "stream",
     "text": [
      "number of observations: 618,934\n",
      "number of players:      20,046\n"
     ]
    }
   ],
   "source": [
    "print(\"number of observations: {:,}\".format(n_obs))\n",
    "print(\"number of players:      {:,}\".format(len(counter)))"
   ]
  },
  {
   "cell_type": "code",
   "execution_count": 5,
   "metadata": {
    "scrolled": true
   },
   "outputs": [
    {
     "data": {
      "text/plain": [
       "Text(0.5, 0, 'player ID')"
      ]
     },
     "execution_count": 5,
     "metadata": {},
     "output_type": "execute_result"
    },
    {
     "data": {
      "image/png": "[encoded data removed]",
      "text/plain": [
       "<Figure size 1152x216 with 1 Axes>"
      ]
     },
     "metadata": {
      "needs_background": "light"
     },
     "output_type": "display_data"
    }
   ],
   "source": [
    "fig, ax = plt.subplots(figsize=(16.0, 3.0))\n",
    "ax.semilogy(sorted(counter.values(), reverse=True))\n",
    "ax.set_title(\"Number of observations per player\")\n",
    "ax.set_xlabel(\"player ID\")"
   ]
  },
  {
   "cell_type": "code",
   "execution_count": 6,
   "metadata": {},
   "outputs": [],
   "source": [
    "counter = collections.Counter()\n",
    "ts = list()\n",
    "for obs in iterate_dataset(DATASET):\n",
    "    dt = datetime.fromtimestamp(obs[\"t\"], tz=timezone.utc)\n",
    "    counter[dt.year] += 1\n",
    "    ts.append(obs[\"t\"])"
   ]
  },
  {
   "cell_type": "code",
   "execution_count": 7,
   "metadata": {},
   "outputs": [
    {
     "data": {
      "image/png": "[encoded data removed]",
      "text/plain": [
       "<Figure size 1152x216 with 1 Axes>"
      ]
     },
     "metadata": {
      "needs_background": "light"
     },
     "output_type": "display_data"
    }
   ],
   "source": [
    "begin, end = min(counter), max(counter)\n",
    "indices = np.arange(begin, end + 1, dtype=int)\n",
    "counts = [counter[y] for y in indices]\n",
    "\n",
    "fig, ax = plt.subplots(figsize=(16.0, 3.0))\n",
    "ax.bar(indices, counts)\n",
    "ax.set_title(\"Number of observations per year\");"
   ]
  },
  {
   "cell_type": "code",
   "execution_count": 8,
   "metadata": {},
   "outputs": [
    {
     "name": "stdout",
     "output_type": "stream",
     "text": [
      "cutoff date: 2011-08-28\n"
     ]
    }
   ],
   "source": [
    "idx = int(0.7 * len(ts))\n",
    "dt = datetime.fromtimestamp(ts[idx], tz=timezone.utc)\n",
    "CUTOFF = datetime(dt.year, dt.month, dt.day, tzinfo=timezone.utc)\n",
    "\n",
    "print(\"cutoff date: {:%Y-%m-%d}\".format(CUTOFF))"
   ]
  },
  {
   "cell_type": "markdown",
   "metadata": {},
   "source": [
    "## Evaluation of models\n",
    "\n",
    "Elo"
   ]
  },
  {
   "cell_type": "code",
   "execution_count": 9,
   "metadata": {},
   "outputs": [
    {
     "name": "stdout",
     "output_type": "stream",
     "text": [
      "CPU times: user 7.63 s, sys: 55.6 ms, total: 7.68 s\n",
      "Wall time: 7.68 s\n"
     ]
    }
   ],
   "source": [
    "%%time\n",
    "model = EloModel(lr=0.262)\n",
    "model.fit(cutoff=CUTOFF)\n",
    "elo = model.evaluate(begin=CUTOFF)"
   ]
  },
  {
   "cell_type": "markdown",
   "metadata": {},
   "source": [
    "TrueSkill"
   ]
  },
  {
   "cell_type": "code",
   "execution_count": 10,
   "metadata": {},
   "outputs": [
    {
     "name": "stdout",
     "output_type": "stream",
     "text": [
      "CPU times: user 3min 54s, sys: 232 ms, total: 3min 55s\n",
      "Wall time: 3min 55s\n"
     ]
    }
   ],
   "source": [
    "%%time\n",
    "model = TrueSkillModel(sigma=0.3701, tau=0.0808)\n",
    "model.fit(cutoff=CUTOFF)\n",
    "trueskill = model.evaluate(begin=CUTOFF)"
   ]
  },
  {
   "cell_type": "code",
   "execution_count": 11,
   "metadata": {},
   "outputs": [],
   "source": [
    "res = {\"random\": {\n",
    "    \"n_obs\": 0,\n",
    "    \"avg_ll\": log(2),\n",
    "    \"avg_acc\": 1/2\n",
    "}}\n",
    "\n",
    "for model, x in ((\"elo\", elo), (\"trueskill\", trueskill)):\n",
    "    res[model] = {\n",
    "        \"n_obs\": x[0],\n",
    "        \"avg_ll\": x[1] / x[0],\n",
    "        \"avg_acc\": x[2] / x[0],\n",
    "    }\n",
    "\n",
    "for model in (\"constant\", \"matern12\", \"matern32\", \"matern52\",\n",
    "        \"ttt\", \"wiener\", \"affine-dyn\", \"affine-wiener\", \"kl\"):\n",
    "    n_obs, log_loss, accuracy = 0, 0.0, 0.0\n",
    "    for datum in iterate_dataset(\"eval/tennis-{}.txt\".format(model)):\n",
    "        n_obs += datum[\"n_obs\"]\n",
    "        log_loss += datum[\"log_loss\"]\n",
    "        accuracy += datum[\"accuracy\"]\n",
    "    res[model] = {\n",
    "        \"n_obs\": n_obs,\n",
    "        \"avg_ll\": log_loss / n_obs,\n",
    "        \"avg_acc\": accuracy / n_obs,\n",
    "    }\n",
    "\n",
    "# Save results for plots.\n",
    "with open(data_path(\"fig/tennis-perf.json\"), \"w\") as f:\n",
    "    json.dump(res, f)"
   ]
  },
  {
   "cell_type": "markdown",
   "metadata": {
    "collapsed": true
   },
   "source": [
    "    with open(data_path(\"fig/tennis-perf.json\")) as f:\n",
    "        res = json.load(f)\n",
    "\n",
    "### Results for dynamics"
   ]
  },
  {
   "cell_type": "code",
   "execution_count": 12,
   "metadata": {},
   "outputs": [
    {
     "name": "stdout",
     "output_type": "stream",
     "text": [
      "model            # obs  avg. ll  avg. acc\n",
      "-----------------------------------------\n",
      "random               0    0.693      0.500\n",
      "elo             186361    0.563      0.705\n",
      "trueskill       186361    0.563      0.705\n",
      "constant        186361    0.581      0.689\n",
      "matern12        186361    0.555      0.711\n",
      "matern32        186361    0.556      0.710\n",
      "matern52        186361    0.556      0.710\n",
      "ttt             186361    0.554      0.712\n",
      "wiener          186361    0.552      0.714\n",
      "affine-dyn      186361    0.555      0.714\n",
      "affine-wiener   186361    0.552      0.714\n"
     ]
    }
   ],
   "source": [
    "print(\"model            # obs  avg. ll  avg. acc\")\n",
    "print(\"-----------------------------------------\")\n",
    "fmt = \"{: <13}   {: >6}    {:.3f}      {:.3f}\"\n",
    "\n",
    "for model in (\"random\", \"elo\", \"trueskill\", \"constant\", \"matern12\", \"matern32\",\n",
    "        \"matern52\", \"ttt\", \"wiener\", \"affine-dyn\", \"affine-wiener\"):\n",
    "    r = res[model]\n",
    "    print(fmt.format(model, r[\"n_obs\"], r[\"avg_ll\"], r[\"avg_acc\"]))"
   ]
  },
  {
   "cell_type": "markdown",
   "metadata": {
    "collapsed": true
   },
   "source": [
    "Best model:\n",
    "\n",
    "- in terms of marginal log-likelihood: Affine + Wiener\n",
    "- in terms of predictive log-loss: Wiener\n",
    "\n",
    "### Results for variational objective"
   ]
  },
  {
   "cell_type": "code",
   "execution_count": 13,
   "metadata": {},
   "outputs": [
    {
     "name": "stdout",
     "output_type": "stream",
     "text": [
      "model            # obs  avg. ll  avg. acc\n",
      "-----------------------------------------\n",
      "random               0    0.6931      0.5000\n",
      "affine-wiener   186361    0.5520      0.7140\n",
      "kl              186361    0.5521      0.7139\n"
     ]
    }
   ],
   "source": [
    "print(\"model            # obs  avg. ll  avg. acc\")\n",
    "print(\"-----------------------------------------\")\n",
    "fmt = \"{: <13}   {: >6}    {:.4f}      {:.4f}\"\n",
    "\n",
    "for model in (\"random\", \"affine-wiener\", \"kl\"):\n",
    "    r = res[model]\n",
    "    print(fmt.format(model, r[\"n_obs\"], r[\"avg_ll\"], r[\"avg_acc\"]))"
   ]
  }
 ],
 "metadata": {
  "kernelspec": {
   "display_name": "Python 3",
   "language": "python",
   "name": "python3"
  },
  "language_info": {
   "codemirror_mode": {
    "name": "ipython",
    "version": 3
   },
   "file_extension": ".py",
   "mimetype": "text/x-python",
   "name": "python",
   "nbconvert_exporter": "python",
   "pygments_lexer": "ipython3",
   "version": "3.6.4"
  }
 },
 "nbformat": 4,
 "nbformat_minor": 2
}
